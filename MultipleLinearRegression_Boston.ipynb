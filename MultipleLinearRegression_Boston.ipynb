{
  "nbformat": 4,
  "nbformat_minor": 0,
  "metadata": {
    "colab": {
      "name": "P2-MultipleLinearRegression",
      "version": "0.3.2",
      "provenance": [],
      "collapsed_sections": [],
      "toc_visible": true
    },
    "kernelspec": {
      "name": "python3",
      "display_name": "Python 3"
    },
    "accelerator": "GPU"
  },
  "cells": [
    {
      "metadata": {
        "id": "p5PAhkSzbkRi",
        "colab_type": "text"
      },
      "cell_type": "markdown",
      "source": [
        "# Multiple Linear Regression - *Boston Housing dataset*"
      ]
    },
    {
      "metadata": {
        "id": "JqoR6No_c0SM",
        "colab_type": "text"
      },
      "cell_type": "markdown",
      "source": [
        "In the previous notebook we have seen how to predict the average value of a dwelling according to its number of rooms, through the implementation of a **Simple Linear Regression** model, for the *Boston Housing Dataset*. We can generalize the **Simple Linear Regression** model by adding more variables and thus obtaining the **Multiple Linear Regression** model, in such a way that we are providing more information to the model, so it can improve the quality of its predictions. In particular, we are going to predict the median value of a home in Boston Housing Dataset according to the *number of rooms (RM)* and, additionally, to the *percentage of lower status population (LSTAT)* and *pupil-teacher ratio (PTRATIO)*."
      ]
    },
    {
      "metadata": {
        "id": "Z82-gTcfGN4E",
        "colab_type": "text"
      },
      "cell_type": "markdown",
      "source": [
        "In the same way as the code corresponding to **Simple Linear Regression**, the necessary libraries are imported and the data is loaded:"
      ]
    },
    {
      "metadata": {
        "id": "g7pqJJrJd8v8",
        "colab_type": "code",
        "colab": {}
      },
      "cell_type": "code",
      "source": [
        "from sklearn.datasets import load_boston\n",
        "\n",
        "import numpy as np\n",
        "import scipy as sc\n",
        "import matplotlib.pyplot as plt\n",
        "\n",
        "boston_dataset = load_boston()\n",
        "\n",
        "X = boston_dataset.data\n",
        "Y = boston_dataset.target\n",
        "\n",
        "n, p = X.shape"
      ],
      "execution_count": 0,
      "outputs": []
    },
    {
      "metadata": {
        "id": "FsIhDl9vJXa9",
        "colab_type": "text"
      },
      "cell_type": "markdown",
      "source": [
        "## 1. Exploratory Data Analysis\n",
        "\n",
        "This brief exploratory analysis is based on checking the correlation between the various attributes used to predict the mean value of the house, as well as verifying if there is any missing value in the dataset. To perform both tasks, it is necessary to import the *pandas* library, useful in data manipulation and analysis, and the *seaborn* visualization library. Then, a 'reduced' dataset is created selecting only the involved attributes, in such a way that their correlation can be observed in a correlation matrix:"
      ]
    },
    {
      "metadata": {
        "id": "zdxrU-pPEwf9",
        "colab_type": "code",
        "outputId": "eed617af-777c-44fb-d5f1-86fc67cf26ec",
        "colab": {
          "base_uri": "https://localhost:8080/",
          "height": 769
        }
      },
      "cell_type": "code",
      "source": [
        "import pandas as pd  \n",
        "import seaborn as sb\n",
        "\n",
        "rep = pd.DataFrame(boston_dataset.data, columns=boston_dataset.feature_names)\n",
        "rep['MEDV'] = boston_dataset.target  # Add the target to the new dataset\n",
        "\n",
        "print(\"Number of missing values for each attribute: \\n\", rep.isnull().sum())  # Check if any field in the dataset is missing\n",
        "\n",
        "rep = rep.loc[:, ['RM','LSTAT','PTRATIO','MEDV']]  # Select only the concerned attributes\n",
        "\n",
        "corrmat = rep.corr()  # Pandas correlation matrix\n",
        "plt.figure(figsize=(10, 8))  # Resize the heatmap before plotting\n",
        "sb.heatmap(corrmat, annot=True, fmt=\".3f\", cmap='RdBu_r')  # Display the first 3 decimal positions"
      ],
      "execution_count": 0,
      "outputs": [
        {
          "output_type": "stream",
          "text": [
            "Number of missing values for each attribute: \n",
            " CRIM       0\n",
            "ZN         0\n",
            "INDUS      0\n",
            "CHAS       0\n",
            "NOX        0\n",
            "RM         0\n",
            "AGE        0\n",
            "DIS        0\n",
            "RAD        0\n",
            "TAX        0\n",
            "PTRATIO    0\n",
            "B          0\n",
            "LSTAT      0\n",
            "MEDV       0\n",
            "dtype: int64\n"
          ],
          "name": "stdout"
        },
        {
          "output_type": "execute_result",
          "data": {
            "text/plain": [
              "<matplotlib.axes._subplots.AxesSubplot at 0x7f374a5a9a58>"
            ]
          },
          "metadata": {
            "tags": []
          },
          "execution_count": 2
        },
        {
          "output_type": "display_data",
          "data": {
            "image/png": "[encoded data removed]",
            "text/plain": [
              "<Figure size 720x576 with 2 Axes>"
            ]
          },
          "metadata": {
            "tags": []
          }
        }
      ]
    },
    {
      "metadata": {
        "id": "3PXNm8D9WhaK",
        "colab_type": "text"
      },
      "cell_type": "markdown",
      "source": [
        "At first, we can see that there are no missing data in the *Boston Housing dataset*. Looking at the correlation matrix, we can observe that all al the attributes seem to be more positively or negatively correlated, as they are closer to +1 or -1, respectively. We can draw several conclusions, for example: The lower the percentage of lower status population (LSTAT), the higher the price of a house on average (MEDV); or the greater the number of rooms (RM), the lower the percentage of lower status population (LSTAT)."
      ]
    },
    {
      "metadata": {
        "id": "77hvTCml_as6",
        "colab_type": "text"
      },
      "cell_type": "markdown",
      "source": [
        "## 2. Ordinary Least Squares\n",
        "\n",
        "The **Ordinary Least Squares** method can be applied, as **Multiple Linear Regression** problems can also be solved with this technique, as there are no big differences at code level between the two techniques. Therefore, we continue obtaining the weights that make the cost function minimum when its derivate is equal to 0, now taking into account LSTAT and PTRATIO, through the expression:\n",
        "\n",
        "$W = (X^TX)^{-1}X^TY$\n"
      ]
    },
    {
      "metadata": {
        "id": "uBXHrSYnEW8M",
        "colab_type": "code",
        "outputId": "506fd6f2-6464-4c1d-e7d4-190c67ec65d7",
        "colab": {
          "base_uri": "https://localhost:8080/",
          "height": 84
        }
      },
      "cell_type": "code",
      "source": [
        "Xamp = X[:,[5, 10, 12]]\n",
        "\n",
        " # With a 1s column vector on the left, we extend the matrix composed of the three variables that determine MEDV prediction.\n",
        "id_Xamp = np.hstack((np.ones((n,1)), Xamp))\n",
        "\n",
        "Y = Y[:, np.newaxis]  # We avoid losing the second dimension of the Y numpy array\n",
        "\n",
        "W = np.linalg.inv(id_Xamp.T @ id_Xamp) @ id_Xamp.T @ Y\n",
        "print(W)"
      ],
      "execution_count": 0,
      "outputs": [
        {
          "output_type": "stream",
          "text": [
            "[[18.56711151]\n",
            " [ 4.51542094]\n",
            " [-0.93072256]\n",
            " [-0.57180569]]\n"
          ],
          "name": "stdout"
        }
      ]
    },
    {
      "metadata": {
        "id": "IVZql-wTmU1f",
        "colab_type": "text"
      },
      "cell_type": "markdown",
      "source": [
        "Thus, the ***Ordinary Least Squares*** method tells us that weights are: $W_0 = 18.56711151$, $W_{RM} = 4.51542094$, $W_{PTRATIO} = -0.93072256$ and $W_{LSTAT} = -0.57180569$. This indicates that the increase of 1 room raises the medium price by \\$4.5k times, or that decreasing the pupil-teacher ratio by 1 makes the house almost \\$1k cheaper.\n",
        "\n",
        "At this point, **MSE** between the prediction $Y_{pred}$ and the original $Y$ can be implemented and then calculated:"
      ]
    },
    {
      "metadata": {
        "id": "825bOeKfzV_e",
        "colab_type": "code",
        "outputId": "59ea8ba2-9aa3-443d-a7af-b0f9ae072798",
        "colab": {
          "base_uri": "https://localhost:8080/",
          "height": 34
        }
      },
      "cell_type": "code",
      "source": [
        "  # Analytic expression for RM (medium value), according to LSTAT, PTRATIO and RM\n",
        "regressionFunction = lambda LSTAT, PTRATIO, RM:  -0.57180569*LSTAT -0.93072256*PTRATIO + 4.51542094*RM + 18.56711151\n",
        "\n",
        "  # But better than the analytic expression, we use the matrix multiplication to obtain Ypred: array of predictions of RM\n",
        "Ypred = id_Xamp @ W\n",
        "\n",
        "MSE = lambda a, b: np.mean(np.power(a-b, 2))\n",
        "print(\"MSE: %.8f\" % MSE(Ypred, Y))"
      ],
      "execution_count": 0,
      "outputs": [
        {
          "output_type": "stream",
          "text": [
            "MSE: 27.13040576\n"
          ],
          "name": "stdout"
        }
      ]
    },
    {
      "metadata": {
        "colab_type": "text",
        "id": "aksAkYyx5dHC"
      },
      "cell_type": "markdown",
      "source": [
        "## 3. Scikit-learn's LinearRegression module"
      ]
    },
    {
      "metadata": {
        "id": "BR7Gi-FA_Czp",
        "colab_type": "text"
      },
      "cell_type": "markdown",
      "source": [
        "As we established in the case of **Simple Linear Regression**, using the *Sklearn* library simplifies the implementation and training of various models, as is also the case of the **Multiple Linear Regression** model. Therefore, we are going to import the modules and functions needed, train the model with the three attributes that are involved in the output and calculate the **MSE** to compare it with the **MSE** in the previous section:"
      ]
    },
    {
      "metadata": {
        "id": "pnB3gVY-nKbA",
        "colab_type": "code",
        "outputId": "35a873df-ca55-408d-b915-af7c870bd703",
        "colab": {
          "base_uri": "https://localhost:8080/",
          "height": 50
        }
      },
      "cell_type": "code",
      "source": [
        "from sklearn import linear_model\n",
        "from sklearn.metrics import mean_squared_error\n",
        "\n",
        "multipleLRModel = linear_model.LinearRegression()\n",
        "multipleLRModel.fit(Xamp, Y)  # Train the model with X = RM + PTRATIO + LSTAT, and Y\n",
        "\n",
        "print(\"Weights RM, PTRATIO and LSTAT (respectively): \", multipleLRModel.coef_, \"Intercept: \", multipleLRModel.intercept_)\n",
        "\n",
        "Ypred = multipleLRModel.predict(Xamp)\n",
        "\n",
        "print(\"MSE: %.8f\" % mean_squared_error(Y, Ypred))"
      ],
      "execution_count": 0,
      "outputs": [
        {
          "output_type": "stream",
          "text": [
            "Weights RM, PTRATIO and LSTAT (respectively):  [[ 4.51542094 -0.93072256 -0.57180569]] Intercept:  [18.56711151]\n",
            "MSE: 27.13040576\n"
          ],
          "name": "stdout"
        }
      ]
    },
    {
      "metadata": {
        "id": "MSwj6cj-Aiqh",
        "colab_type": "text"
      },
      "cell_type": "markdown",
      "source": [
        "As we can see, using ***Ordinary Least Squares*** and **Multiple Linear Regression** with *Sklearn* two identical values are obtained for the **MSE**."
      ]
    }
  ]
}

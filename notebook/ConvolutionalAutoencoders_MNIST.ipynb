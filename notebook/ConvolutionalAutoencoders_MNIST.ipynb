{
  "nbformat": 4,
  "nbformat_minor": 0,
  "metadata": {
    "colab": {
      "name": "FINALISISISISISMO P13_ConvolutionalAutoencoders_MNIST.ipynb",
      "version": "0.3.2",
      "provenance": [],
      "collapsed_sections": [],
      "toc_visible": true
    },
    "kernelspec": {
      "name": "python3",
      "display_name": "Python 3"
    },
    "accelerator": "GPU"
  },
  "cells": [
    {
      "metadata": {
        "id": "m_XHTOYUex1g",
        "colab_type": "text"
      },
      "cell_type": "markdown",
      "source": [
        "# Convolutional Autoencoders - MNIST dataset\n",
        "\n",
        "\n",
        "**What if we train the Network with the same input and output?**\n",
        "\n",
        "\n",
        "**Autoencoders** work this way, compressing the input into a **latent-space** representation, and then reconstructing this representation, providing an output. The **autoencoder** consists of an *encoder* and a *decoder*. The first one reduces the input data from its high dimensionality up to a bottleneck, and the second one recovers the encoded data to take them back to their original form. This bottleneck corresponds to the smallest neural layer. The place where the data is located when it is in this bottleneck layer is known as the **latent space**. Data represented in the **latent space** is very compressed data, such that a well-trained neural network has to be able to transform this simplified representation into the original data.\n",
        "\n",
        "![CAE](https://cdn-images-1.medium.com/max/2000/1*op0VO_QK4vMtCnXtmigDhA.png)\n",
        "\n",
        "In this notebook we are going to implement a **Convolutional Autoencoder** to perform various tasks over the **MNIST** dataset: clean the noise in distorted **MNIST** numbers, and visualize an interpolation in the latent space to see the transition between two numbers.\n",
        "\n"
      ]
    },
    {
      "metadata": {
        "id": "-oW6uQXYVJ4G",
        "colab_type": "code",
        "colab": {}
      },
      "cell_type": "code",
      "source": [
        "import numpy as np\n",
        "import scipy as sc\n",
        "import sklearn as sk\n",
        "import pandas  as pd\n",
        "import matplotlib.pyplot as plt\n",
        "\n",
        "from tensorflow.keras.utils      import to_categorical\n",
        "\n",
        "# We load the dataset from the file with pandas\n",
        "mnist = pd.read_csv(\"./sample_data/mnist_train_small.csv\", header=None).as_matrix()  # Save as numpy matrix\n",
        "\n",
        "# X: sample attributes(20000x784), Y: sample labels (20000x1)\n",
        "X, Y = mnist[:, 1:], mnist[:, 0:1]\n",
        "\n",
        "X = X / 255  # Scale the data matrix (20000x744)\n",
        "Y_cat = to_categorical(Y, 10)  # One-hot encoding: [1,0,0,...,0], [0,1,0,...,0], ..., [0,0,...,0,1]\n",
        "\n",
        "he, wi = 28, 28  # height and width of an image\n",
        "\n",
        "X_reshaped = X.reshape((X.shape[0], 28, 28, 1))  # format the images to feed the autoencoder"
      ],
      "execution_count": 0,
      "outputs": []
    },
    {
      "metadata": {
        "id": "QKXISiSnJTdX",
        "colab_type": "code",
        "colab": {}
      },
      "cell_type": "code",
      "source": [
        "from sklearn.model_selection import train_test_split\n",
        "\n",
        "X_train, X_test, Y_train, Y_test = train_test_split(X_reshaped, Y_cat, test_size=0.3)  # Partitioning in training and test data"
      ],
      "execution_count": 0,
      "outputs": []
    },
    {
      "metadata": {
        "id": "v9TaL9SpfA6B",
        "colab_type": "text"
      },
      "cell_type": "markdown",
      "source": [
        "The architecture of the Convolutional Autoencoder has been determined after an extensive number of tests of different architectures. Finally, an autoencoder with **64 bottleneck neurons** has been used, increasing the number of filters following the powers of 2 from 32 to 256 (and vice versa for decoding). In some of the convolutional layers a **stride** of **2** has been used, as well as **zero padding** (*padding=valid*), with the purpose of not losing information in the reconstruction of the images. Also, Batch Normalization has been applied out of convolutional layer blocks. The structure of the Convolutional Autoencoder has been defined by differentiating the encoder module and the decoder module, since it will be useful when making linear interpolations in the latent space.\n",
        "\n",
        "To measure the quality of the model, ***Mean Squared Error*** has been used as loss function, and to validate *val_loss* has been employed, since an autoencoder is not a classifier, so it makes no sense to use *accuracy* as metric. In addition, **Stochastic Gradient Descent** has been used as optimizer, as it has experimentally proven to be the most powerful for this dataset, in comparison to the other optimizers."
      ]
    },
    {
      "metadata": {
        "id": "PPdygOxaZ64i",
        "colab_type": "code",
        "colab": {}
      },
      "cell_type": "code",
      "source": [
        "from tensorflow.python.keras.layers import Conv2D, Conv2DTranspose, Input, Dense, Reshape, Flatten, BatchNormalization\n",
        "from tensorflow.python.keras.models import Model\n",
        "from tensorflow.python.keras.callbacks import ModelCheckpoint, EarlyStopping\n",
        "from tensorflow.python.keras.optimizers import SGD\n",
        "\n",
        "  # Encoder     ###############################################################\n",
        "img = Input(shape=(he, wi, 1), name='image')  # image shape: 28x28x1\n",
        "\n",
        "x = Conv2D(kernel_size=5, strides=2, filters=32, padding='same', activation='relu', name='con1e')(img)  # 14x14x32\n",
        "\n",
        "x = Conv2D(kernel_size=5, strides=2, filters=64, padding='same', activation='relu', name='con2e')(x)  # 7x7x64\n",
        "\n",
        "x = Conv2D(kernel_size=3, strides=1, filters=128, padding='same', activation='relu', name='con3e')(x)  # 7x7x128\n",
        "\n",
        "x = Conv2D(kernel_size=3, strides=2, filters=256, padding='valid', activation='relu', name='con4e')(x)  # 3x3x256\n",
        "x = BatchNormalization()(x)\n",
        "\n",
        "x = Flatten()(x)  # 2304\n",
        "\n",
        "###############################################################################\n",
        "\n",
        "enc_img = Dense(64, activation='relu')(x)  # 64, lenght of latent vector\n",
        "\n",
        "latent = Input(shape=(1, 64), name='latent')\n",
        "\n",
        "  # Decoder     ###############################################################\n",
        "x = Dense(2304, activation='relu')(latent)  # 2304\n",
        "\n",
        "x = Reshape((3, 3, 256))(x)  # 3x3x256\n",
        "x = BatchNormalization()(x)\n",
        "\n",
        "x = Conv2DTranspose(kernel_size=3, strides=1, filters=128, padding='same', activation='relu', name='con1d')(x)  # 3x3x128\n",
        "\n",
        "x = Conv2DTranspose(kernel_size=3, strides=2, filters=64, padding='valid', activation='relu', name='con2d')(x)  # 7x7x64\n",
        "\n",
        "x = Conv2DTranspose(kernel_size=5, strides=2, filters=32, padding='same', activation='relu', name='con3d')(x)  # 14x14x32\n",
        "\n",
        "dec_img = Conv2DTranspose(kernel_size=5, strides=2, filters=1, padding='same', activation='sigmoid', name='con4d')(x)  # 28x28x1\n",
        "\n",
        "###############################################################################\n",
        "\n",
        "enc = Model(img, enc_img, name='encoder')\n",
        "dec = Model(latent, dec_img, name='decoder')  # allows to inspect the latent space\n",
        "\n",
        "img_input = Input(shape=(he, wi, 1), name = 'image_input')\n",
        "CAE = Model(img_input, dec(enc(img_input)))  # connecting encoder-decoder graphs\n",
        "\n",
        "checkpoint = ModelCheckpoint(filepath='./weights-CAE.h5', monitor='val_loss', verbose=1, save_best_only='True', save_weights_only='True')\n",
        "\n",
        "cbks = [EarlyStopping(monitor='loss', patience=10, verbose=1),  # Stop after 10 epochs if val_loss does not improve\n",
        "        checkpoint]\n",
        "\n",
        "sgd = SGD(lr=0.015, momentum=0.9, decay=1e-6, nesterov=True)\n",
        "\n",
        "CAE.compile(optimizer=sgd,\n",
        "            loss='mse')"
      ],
      "execution_count": 0,
      "outputs": []
    },
    {
      "metadata": {
        "id": "X8P-QSfeVrVU",
        "colab_type": "code",
        "outputId": "507879e7-8bec-4a9a-dad9-f84cc5e3c46b",
        "colab": {
          "base_uri": "https://localhost:8080/",
          "height": 4066
        }
      },
      "cell_type": "code",
      "source": [
        "CAE_hist = CAE.fit(X_train,\n",
        "          X_train,\n",
        "          batch_size=8,\n",
        "          epochs=60,\n",
        "          verbose=1,\n",
        "          validation_data=(X_test, X_test),\n",
        "          callbacks=cbks)"
      ],
      "execution_count": 0,
      "outputs": [
        {
          "output_type": "stream",
          "text": [
            "Train on 14000 samples, validate on 6000 samples\n",
            "Epoch 1/60\n",
            "13960/14000 [============================>.] - ETA: 0s - loss: 0.1563\n",
            "Epoch 00001: val_loss improved from inf to 0.08347, saving model to ./weights-CAE.h5\n",
            "14000/14000 [==============================] - 20s 1ms/step - loss: 0.1561 - val_loss: 0.0835\n",
            "Epoch 2/60\n",
            "13984/14000 [============================>.] - ETA: 0s - loss: 0.0697\n",
            "Epoch 00002: val_loss improved from 0.08347 to 0.05721, saving model to ./weights-CAE.h5\n",
            "14000/14000 [==============================] - 17s 1ms/step - loss: 0.0696 - val_loss: 0.0572\n",
            "Epoch 3/60\n",
            "13992/14000 [============================>.] - ETA: 0s - loss: 0.0531\n",
            "Epoch 00003: val_loss improved from 0.05721 to 0.05160, saving model to ./weights-CAE.h5\n",
            "14000/14000 [==============================] - 17s 1ms/step - loss: 0.0531 - val_loss: 0.0516\n",
            "Epoch 4/60\n",
            "13976/14000 [============================>.] - ETA: 0s - loss: 0.0451\n",
            "Epoch 00004: val_loss improved from 0.05160 to 0.04198, saving model to ./weights-CAE.h5\n",
            "14000/14000 [==============================] - 17s 1ms/step - loss: 0.0452 - val_loss: 0.0420\n",
            "Epoch 5/60\n",
            "13984/14000 [============================>.] - ETA: 0s - loss: 0.0401\n",
            "Epoch 00005: val_loss improved from 0.04198 to 0.03916, saving model to ./weights-CAE.h5\n",
            "14000/14000 [==============================] - 17s 1ms/step - loss: 0.0401 - val_loss: 0.0392\n",
            "Epoch 6/60\n",
            "13968/14000 [============================>.] - ETA: 0s - loss: 0.0367\n",
            "Epoch 00006: val_loss improved from 0.03916 to 0.03621, saving model to ./weights-CAE.h5\n",
            "14000/14000 [==============================] - 17s 1ms/step - loss: 0.0367 - val_loss: 0.0362\n",
            "Epoch 7/60\n",
            "13968/14000 [============================>.] - ETA: 0s - loss: 0.0340\n",
            "Epoch 00007: val_loss improved from 0.03621 to 0.03321, saving model to ./weights-CAE.h5\n",
            "14000/14000 [==============================] - 17s 1ms/step - loss: 0.0340 - val_loss: 0.0332\n",
            "Epoch 8/60\n",
            "13976/14000 [============================>.] - ETA: 0s - loss: 0.0321\n",
            "Epoch 00008: val_loss improved from 0.03321 to 0.03156, saving model to ./weights-CAE.h5\n",
            "14000/14000 [==============================] - 17s 1ms/step - loss: 0.0321 - val_loss: 0.0316\n",
            "Epoch 9/60\n",
            "13968/14000 [============================>.] - ETA: 0s - loss: 0.0304\n",
            "Epoch 00009: val_loss improved from 0.03156 to 0.03053, saving model to ./weights-CAE.h5\n",
            "14000/14000 [==============================] - 17s 1ms/step - loss: 0.0304 - val_loss: 0.0305\n",
            "Epoch 10/60\n",
            "13984/14000 [============================>.] - ETA: 0s - loss: 0.0291\n",
            "Epoch 00010: val_loss improved from 0.03053 to 0.02878, saving model to ./weights-CAE.h5\n",
            "14000/14000 [==============================] - 17s 1ms/step - loss: 0.0291 - val_loss: 0.0288\n",
            "Epoch 11/60\n",
            "13952/14000 [============================>.] - ETA: 0s - loss: 0.0278\n",
            "Epoch 00011: val_loss improved from 0.02878 to 0.02841, saving model to ./weights-CAE.h5\n",
            "14000/14000 [==============================] - 17s 1ms/step - loss: 0.0278 - val_loss: 0.0284\n",
            "Epoch 12/60\n",
            "13976/14000 [============================>.] - ETA: 0s - loss: 0.0268\n",
            "Epoch 00012: val_loss did not improve from 0.02841\n",
            "14000/14000 [==============================] - 17s 1ms/step - loss: 0.0268 - val_loss: 0.0284\n",
            "Epoch 13/60\n",
            "13976/14000 [============================>.] - ETA: 0s - loss: 0.0260\n",
            "Epoch 00013: val_loss improved from 0.02841 to 0.02685, saving model to ./weights-CAE.h5\n",
            "14000/14000 [==============================] - 17s 1ms/step - loss: 0.0260 - val_loss: 0.0268\n",
            "Epoch 14/60\n",
            "13960/14000 [============================>.] - ETA: 0s - loss: 0.0252\n",
            "Epoch 00014: val_loss did not improve from 0.02685\n",
            "14000/14000 [==============================] - 17s 1ms/step - loss: 0.0252 - val_loss: 0.0271\n",
            "Epoch 15/60\n",
            "13960/14000 [============================>.] - ETA: 0s - loss: 0.0245\n",
            "Epoch 00015: val_loss improved from 0.02685 to 0.02595, saving model to ./weights-CAE.h5\n",
            "14000/14000 [==============================] - 17s 1ms/step - loss: 0.0245 - val_loss: 0.0260\n",
            "Epoch 16/60\n",
            "13968/14000 [============================>.] - ETA: 0s - loss: 0.0239\n",
            "Epoch 00016: val_loss did not improve from 0.02595\n",
            "14000/14000 [==============================] - 17s 1ms/step - loss: 0.0239 - val_loss: 0.0265\n",
            "Epoch 17/60\n",
            "13976/14000 [============================>.] - ETA: 0s - loss: 0.0233\n",
            "Epoch 00017: val_loss improved from 0.02595 to 0.02435, saving model to ./weights-CAE.h5\n",
            "14000/14000 [==============================] - 17s 1ms/step - loss: 0.0233 - val_loss: 0.0243\n",
            "Epoch 18/60\n",
            "13960/14000 [============================>.] - ETA: 0s - loss: 0.0228\n",
            "Epoch 00018: val_loss improved from 0.02435 to 0.02376, saving model to ./weights-CAE.h5\n",
            "14000/14000 [==============================] - 17s 1ms/step - loss: 0.0228 - val_loss: 0.0238\n",
            "Epoch 19/60\n",
            "13992/14000 [============================>.] - ETA: 0s - loss: 0.0224\n",
            "Epoch 00019: val_loss improved from 0.02376 to 0.02342, saving model to ./weights-CAE.h5\n",
            "14000/14000 [==============================] - 17s 1ms/step - loss: 0.0224 - val_loss: 0.0234\n",
            "Epoch 20/60\n",
            "13968/14000 [============================>.] - ETA: 0s - loss: 0.0220\n",
            "Epoch 00020: val_loss did not improve from 0.02342\n",
            "14000/14000 [==============================] - 17s 1ms/step - loss: 0.0220 - val_loss: 0.0235\n",
            "Epoch 21/60\n",
            "13976/14000 [============================>.] - ETA: 0s - loss: 0.0215\n",
            "Epoch 00021: val_loss improved from 0.02342 to 0.02293, saving model to ./weights-CAE.h5\n",
            "14000/14000 [==============================] - 17s 1ms/step - loss: 0.0215 - val_loss: 0.0229\n",
            "Epoch 22/60\n",
            "13992/14000 [============================>.] - ETA: 0s - loss: 0.0212\n",
            "Epoch 00022: val_loss did not improve from 0.02293\n",
            "14000/14000 [==============================] - 17s 1ms/step - loss: 0.0212 - val_loss: 0.0238\n",
            "Epoch 23/60\n",
            "13976/14000 [============================>.] - ETA: 0s - loss: 0.0209\n",
            "Epoch 00023: val_loss did not improve from 0.02293\n",
            "14000/14000 [==============================] - 17s 1ms/step - loss: 0.0209 - val_loss: 0.0230\n",
            "Epoch 24/60\n",
            "13960/14000 [============================>.] - ETA: 0s - loss: 0.0205\n",
            "Epoch 00024: val_loss improved from 0.02293 to 0.02222, saving model to ./weights-CAE.h5\n",
            "14000/14000 [==============================] - 17s 1ms/step - loss: 0.0205 - val_loss: 0.0222\n",
            "Epoch 25/60\n",
            "13968/14000 [============================>.] - ETA: 0s - loss: 0.0202\n",
            "Epoch 00025: val_loss improved from 0.02222 to 0.02198, saving model to ./weights-CAE.h5\n",
            "14000/14000 [==============================] - 17s 1ms/step - loss: 0.0202 - val_loss: 0.0220\n",
            "Epoch 26/60\n",
            "13952/14000 [============================>.] - ETA: 0s - loss: 0.0199\n",
            "Epoch 00026: val_loss improved from 0.02198 to 0.02170, saving model to ./weights-CAE.h5\n",
            "14000/14000 [==============================] - 17s 1ms/step - loss: 0.0199 - val_loss: 0.0217\n",
            "Epoch 27/60\n",
            "13960/14000 [============================>.] - ETA: 0s - loss: 0.0196\n",
            "Epoch 00027: val_loss did not improve from 0.02170\n",
            "14000/14000 [==============================] - 17s 1ms/step - loss: 0.0196 - val_loss: 0.0217\n",
            "Epoch 28/60\n",
            "13976/14000 [============================>.] - ETA: 0s - loss: 0.0194\n",
            "Epoch 00028: val_loss improved from 0.02170 to 0.02111, saving model to ./weights-CAE.h5\n",
            "14000/14000 [==============================] - 17s 1ms/step - loss: 0.0194 - val_loss: 0.0211\n",
            "Epoch 29/60\n",
            "13952/14000 [============================>.] - ETA: 0s - loss: 0.0192\n",
            "Epoch 00029: val_loss did not improve from 0.02111\n",
            "14000/14000 [==============================] - 17s 1ms/step - loss: 0.0192 - val_loss: 0.0216\n",
            "Epoch 30/60\n",
            "13960/14000 [============================>.] - ETA: 0s - loss: 0.0189\n",
            "Epoch 00030: val_loss improved from 0.02111 to 0.02090, saving model to ./weights-CAE.h5\n",
            "14000/14000 [==============================] - 17s 1ms/step - loss: 0.0190 - val_loss: 0.0209\n",
            "Epoch 31/60\n",
            "13984/14000 [============================>.] - ETA: 0s - loss: 0.0188\n",
            "Epoch 00031: val_loss improved from 0.02090 to 0.02051, saving model to ./weights-CAE.h5\n",
            "14000/14000 [==============================] - 17s 1ms/step - loss: 0.0188 - val_loss: 0.0205\n",
            "Epoch 32/60\n",
            "13960/14000 [============================>.] - ETA: 0s - loss: 0.0185\n",
            "Epoch 00032: val_loss did not improve from 0.02051\n",
            "14000/14000 [==============================] - 17s 1ms/step - loss: 0.0185 - val_loss: 0.0206\n",
            "Epoch 33/60\n",
            "13952/14000 [============================>.] - ETA: 0s - loss: 0.0184\n",
            "Epoch 00033: val_loss improved from 0.02051 to 0.02031, saving model to ./weights-CAE.h5\n",
            "14000/14000 [==============================] - 17s 1ms/step - loss: 0.0184 - val_loss: 0.0203\n",
            "Epoch 34/60\n",
            "13976/14000 [============================>.] - ETA: 0s - loss: 0.0181\n",
            "Epoch 00034: val_loss did not improve from 0.02031\n",
            "14000/14000 [==============================] - 17s 1ms/step - loss: 0.0181 - val_loss: 0.0204\n",
            "Epoch 35/60\n",
            "13968/14000 [============================>.] - ETA: 0s - loss: 0.0180\n",
            "Epoch 00035: val_loss improved from 0.02031 to 0.02015, saving model to ./weights-CAE.h5\n",
            "14000/14000 [==============================] - 17s 1ms/step - loss: 0.0180 - val_loss: 0.0202\n",
            "Epoch 36/60\n",
            "13992/14000 [============================>.] - ETA: 0s - loss: 0.0178\n",
            "Epoch 00036: val_loss did not improve from 0.02015\n",
            "14000/14000 [==============================] - 17s 1ms/step - loss: 0.0178 - val_loss: 0.0202\n",
            "Epoch 37/60\n",
            "13952/14000 [============================>.] - ETA: 0s - loss: 0.0176\n",
            "Epoch 00037: val_loss improved from 0.02015 to 0.01987, saving model to ./weights-CAE.h5\n",
            "14000/14000 [==============================] - 17s 1ms/step - loss: 0.0176 - val_loss: 0.0199\n",
            "Epoch 38/60\n",
            "13968/14000 [============================>.] - ETA: 0s - loss: 0.0175\n",
            "Epoch 00038: val_loss did not improve from 0.01987\n",
            "14000/14000 [==============================] - 17s 1ms/step - loss: 0.0175 - val_loss: 0.0200\n",
            "Epoch 39/60\n",
            "13968/14000 [============================>.] - ETA: 0s - loss: 0.0174\n",
            "Epoch 00039: val_loss improved from 0.01987 to 0.01981, saving model to ./weights-CAE.h5\n",
            "14000/14000 [==============================] - 17s 1ms/step - loss: 0.0174 - val_loss: 0.0198\n",
            "Epoch 40/60\n",
            "13984/14000 [============================>.] - ETA: 0s - loss: 0.0172\n",
            "Epoch 00040: val_loss improved from 0.01981 to 0.01942, saving model to ./weights-CAE.h5\n",
            "14000/14000 [==============================] - 17s 1ms/step - loss: 0.0172 - val_loss: 0.0194\n",
            "Epoch 41/60\n",
            "13992/14000 [============================>.] - ETA: 0s - loss: 0.0171\n",
            "Epoch 00041: val_loss improved from 0.01942 to 0.01925, saving model to ./weights-CAE.h5\n",
            "14000/14000 [==============================] - 17s 1ms/step - loss: 0.0171 - val_loss: 0.0192\n",
            "Epoch 42/60\n",
            "13984/14000 [============================>.] - ETA: 0s - loss: 0.0169\n",
            "Epoch 00042: val_loss did not improve from 0.01925\n",
            "14000/14000 [==============================] - 17s 1ms/step - loss: 0.0169 - val_loss: 0.0196\n",
            "Epoch 43/60\n",
            "13952/14000 [============================>.] - ETA: 0s - loss: 0.0168\n",
            "Epoch 00043: val_loss improved from 0.01925 to 0.01891, saving model to ./weights-CAE.h5\n",
            "14000/14000 [==============================] - 17s 1ms/step - loss: 0.0168 - val_loss: 0.0189\n",
            "Epoch 44/60\n",
            "13976/14000 [============================>.] - ETA: 0s - loss: 0.0167\n",
            "Epoch 00044: val_loss improved from 0.01891 to 0.01874, saving model to ./weights-CAE.h5\n",
            "14000/14000 [==============================] - 17s 1ms/step - loss: 0.0167 - val_loss: 0.0187\n",
            "Epoch 45/60\n",
            "13968/14000 [============================>.] - ETA: 0s - loss: 0.0166\n",
            "Epoch 00045: val_loss improved from 0.01874 to 0.01867, saving model to ./weights-CAE.h5\n",
            "14000/14000 [==============================] - 17s 1ms/step - loss: 0.0166 - val_loss: 0.0187\n",
            "Epoch 46/60\n",
            "13992/14000 [============================>.] - ETA: 0s - loss: 0.0165\n",
            "Epoch 00046: val_loss improved from 0.01867 to 0.01861, saving model to ./weights-CAE.h5\n",
            "14000/14000 [==============================] - 17s 1ms/step - loss: 0.0165 - val_loss: 0.0186\n",
            "Epoch 47/60\n",
            "13976/14000 [============================>.] - ETA: 0s - loss: 0.0164\n",
            "Epoch 00047: val_loss did not improve from 0.01861\n",
            "14000/14000 [==============================] - 17s 1ms/step - loss: 0.0164 - val_loss: 0.0192\n",
            "Epoch 48/60\n",
            "13960/14000 [============================>.] - ETA: 0s - loss: 0.0163\n",
            "Epoch 00048: val_loss did not improve from 0.01861\n",
            "14000/14000 [==============================] - 17s 1ms/step - loss: 0.0163 - val_loss: 0.0188\n",
            "Epoch 49/60\n",
            "13952/14000 [============================>.] - ETA: 0s - loss: 0.0162\n",
            "Epoch 00049: val_loss improved from 0.01861 to 0.01846, saving model to ./weights-CAE.h5\n",
            "14000/14000 [==============================] - 17s 1ms/step - loss: 0.0162 - val_loss: 0.0185\n",
            "Epoch 50/60\n",
            "13960/14000 [============================>.] - ETA: 0s - loss: 0.0161\n",
            "Epoch 00050: val_loss improved from 0.01846 to 0.01836, saving model to ./weights-CAE.h5\n",
            "14000/14000 [==============================] - 17s 1ms/step - loss: 0.0161 - val_loss: 0.0184\n",
            "Epoch 51/60\n",
            "13960/14000 [============================>.] - ETA: 0s - loss: 0.0160\n",
            "Epoch 00051: val_loss did not improve from 0.01836\n",
            "14000/14000 [==============================] - 17s 1ms/step - loss: 0.0160 - val_loss: 0.0188\n",
            "Epoch 52/60\n",
            "13984/14000 [============================>.] - ETA: 0s - loss: 0.0159\n",
            "Epoch 00052: val_loss did not improve from 0.01836\n",
            "14000/14000 [==============================] - 17s 1ms/step - loss: 0.0159 - val_loss: 0.0185\n",
            "Epoch 53/60\n",
            "13960/14000 [============================>.] - ETA: 0s - loss: 0.0158\n",
            "Epoch 00053: val_loss did not improve from 0.01836\n",
            "14000/14000 [==============================] - 17s 1ms/step - loss: 0.0158 - val_loss: 0.0184\n",
            "Epoch 54/60\n",
            "13952/14000 [============================>.] - ETA: 0s - loss: 0.0157\n",
            "Epoch 00054: val_loss improved from 0.01836 to 0.01809, saving model to ./weights-CAE.h5\n",
            "14000/14000 [==============================] - 17s 1ms/step - loss: 0.0157 - val_loss: 0.0181\n",
            "Epoch 55/60\n",
            "13960/14000 [============================>.] - ETA: 0s - loss: 0.0156\n",
            "Epoch 00055: val_loss did not improve from 0.01809\n",
            "14000/14000 [==============================] - 17s 1ms/step - loss: 0.0156 - val_loss: 0.0184\n",
            "Epoch 56/60\n",
            "13976/14000 [============================>.] - ETA: 0s - loss: 0.0155\n",
            "Epoch 00056: val_loss did not improve from 0.01809\n",
            "14000/14000 [==============================] - 17s 1ms/step - loss: 0.0155 - val_loss: 0.0184\n",
            "Epoch 57/60\n",
            "13976/14000 [============================>.] - ETA: 0s - loss: 0.0154\n",
            "Epoch 00057: val_loss did not improve from 0.01809\n",
            "14000/14000 [==============================] - 17s 1ms/step - loss: 0.0155 - val_loss: 0.0181\n",
            "Epoch 58/60\n",
            "13984/14000 [============================>.] - ETA: 0s - loss: 0.0154\n",
            "Epoch 00058: val_loss improved from 0.01809 to 0.01807, saving model to ./weights-CAE.h5\n",
            "14000/14000 [==============================] - 17s 1ms/step - loss: 0.0154 - val_loss: 0.0181\n",
            "Epoch 59/60\n",
            "13976/14000 [============================>.] - ETA: 0s - loss: 0.0153\n",
            "Epoch 00059: val_loss improved from 0.01807 to 0.01771, saving model to ./weights-CAE.h5\n",
            "14000/14000 [==============================] - 17s 1ms/step - loss: 0.0153 - val_loss: 0.0177\n",
            "Epoch 60/60\n",
            "13952/14000 [============================>.] - ETA: 0s - loss: 0.0152\n",
            "Epoch 00060: val_loss did not improve from 0.01771\n",
            "14000/14000 [==============================] - 17s 1ms/step - loss: 0.0152 - val_loss: 0.0183\n"
          ],
          "name": "stdout"
        }
      ]
    },
    {
      "metadata": {
        "id": "JDG9hpF1j73I",
        "colab_type": "code",
        "colab": {}
      },
      "cell_type": "code",
      "source": [
        "CAE.load_weights('./weights-CAE.h5')  # Load the model that reached the best val_loss"
      ],
      "execution_count": 0,
      "outputs": []
    },
    {
      "metadata": {
        "id": "TvyCv4hAccgk",
        "colab_type": "code",
        "outputId": "2ed79103-3d44-4ca4-8b45-e1d4413f21ba",
        "colab": {
          "base_uri": "https://localhost:8080/",
          "height": 362
        }
      },
      "cell_type": "code",
      "source": [
        "plt.title(\"Train Loss VS Validation Loss\")\n",
        "plt.plot(CAE_hist.history['loss'],     c='g')\n",
        "plt.plot(CAE_hist.history['val_loss'], c='b')\n",
        "plt.legend(['Train Loss', 'Validation Loss'])\n",
        "plt.show()"
      ],
      "execution_count": 0,
      "outputs": [
        {
          "output_type": "display_data",
          "data": {
            "image/png": "[encoded data removed]",
            "text/plain": [
              "<Figure size 576x396 with 1 Axes>"
            ]
          },
          "metadata": {
            "tags": []
          }
        }
      ]
    },
    {
      "metadata": {
        "id": "BqRenqlSn6oP",
        "colab_type": "text"
      },
      "cell_type": "markdown",
      "source": [
        "Now, let's try adding noise to the input (we'll use the noise function implemented in the Data Augmentation notebook), and let's check if the model is able to act as a Denoiser Autoencoder:"
      ]
    },
    {
      "metadata": {
        "id": "QRtWBBEjoP_2",
        "colab_type": "code",
        "colab": {}
      },
      "cell_type": "code",
      "source": [
        "import random\n",
        "\n",
        "def noise(X, p):  # Image set noising, with p: percentage of noise\n",
        "  \n",
        "  resul = np.zeros(X.shape)\n",
        "  \n",
        "  for i, elem in enumerate(X):\n",
        "    img = elem.reshape(28, 28)\n",
        "    noise = np.random.uniform(low=-p, high=p, size=(28, 28))  # Create noise mask 28x28 matrix with values in [-p, p)\n",
        "    resul[i] = np.clip(img + noise, 0.0, 1.0).flatten()  # Sum the noise and, due to data is scaled, clipping between 0 and 1 is needed\n",
        "    \n",
        "  return resul"
      ],
      "execution_count": 0,
      "outputs": []
    },
    {
      "metadata": {
        "id": "giR6zNK42oL6",
        "colab_type": "code",
        "outputId": "c61ddf93-7650-4ef3-bfa5-baff5432430c",
        "colab": {
          "base_uri": "https://localhost:8080/",
          "height": 500
        }
      },
      "cell_type": "code",
      "source": [
        "from random import randint\n",
        "\n",
        "rows = 3\n",
        "cols = 3  # different MNIST numbers to plot in the comparison\n",
        "\n",
        "maxval = X.shape[0]\n",
        "rand1, rand2, rand3 = random.sample(range(0, maxval), cols)\n",
        "\n",
        "origX = X[[rand1, rand2, rand3],:]  # Select 3 random samples in MNIST\n",
        "noisX = noise(origX, random.randint(35, 65)/100)  # add noise between (35% and 65%)\n",
        "predX = CAE.predict(noisX.reshape((noisX.shape[0], 28, 28, 1)))\n",
        "\n",
        "fig = plt.figure(figsize=(17, 8))\n",
        "\n",
        "ax = []  # list to manipulate each subplot\n",
        "\n",
        "  # Simple way to plot each set\n",
        "for i in range(0,3):  # Plot original numbers\n",
        "  ax.append(fig.add_subplot(rows, cols, i+1))    \n",
        "  ax[i].axis('off')\n",
        "  ax[i].set_title(\"Original\", fontsize=15)\n",
        "  plt.imshow(origX[i].reshape(28, 28))\n",
        "  \n",
        "for i in range(3,6):  # Plot noised numbers\n",
        "  ax.append(fig.add_subplot(rows, cols, i+1))    \n",
        "  ax[i].axis('off')\n",
        "  ax[i].set_title(\"Noisy\", fontsize=15)\n",
        "  plt.imshow(noisX[i%3].reshape(28, 28))\n",
        "  \n",
        "for i in range(6,9):  # Plot denoised numbers\n",
        "  ax.append(fig.add_subplot(rows, cols, i+1))    \n",
        "  ax[i].axis('off')\n",
        "  ax[i].set_title(\"Noisy prediction (denoised)\", fontsize=15)\n",
        "  plt.imshow(predX[i%6].reshape(28, 28))\n",
        "\n",
        "plt.show()"
      ],
      "execution_count": 0,
      "outputs": [
        {
          "output_type": "display_data",
          "data": {
            "image/png": "[encoded data removed]",
            "text/plain": [
              "<Figure size 1224x576 with 9 Axes>"
            ]
          },
          "metadata": {
            "tags": []
          }
        }
      ]
    },
    {
      "metadata": {
        "id": "BMRexDbknrL4",
        "colab_type": "text"
      },
      "cell_type": "markdown",
      "source": [
        "As we see in the comparison, the model is able to eliminate almost all the added noise and recover the original image with a high similarity. However, it is very likely that the model is learning the ***identity function*** instead of extracting features. For this reason, and even if the original autoencoder is enough to solve this task, the autoencoder should be **retrained** by providing images with noise as input and the original images as output. We will see this approach in the next notebook, where we will work with color images instead of black and white numbers.\n",
        "\n"
      ]
    },
    {
      "metadata": {
        "id": "oIi2XC8weUoh",
        "colab_type": "text"
      },
      "cell_type": "markdown",
      "source": [
        "## Linear interpolation in latent space\n",
        "\n",
        "Now, the latent space will be our playground. We will make a transition between an initial number and a final number, in such a way that we will be able to check how well the latent space understands the structure of the images  [(Julien Despois)](https://hackernoon.com/latent-space-visualization-deep-learning-bits-2-bd09a46920df):"
      ]
    },
    {
      "metadata": {
        "id": "n_a6lAC-DKY_",
        "colab_type": "text"
      },
      "cell_type": "markdown",
      "source": [
        "![latentspace](https://cdn-images-1.medium.com/max/1000/1*bOdlSOh6MfMJb0s-7oIW9Q.png)"
      ]
    },
    {
      "metadata": {
        "id": "76wDmYAVIake",
        "colab_type": "code",
        "outputId": "9c9a389a-16d5-49f6-f80f-db3e68495023",
        "colab": {
          "base_uri": "https://localhost:8080/",
          "height": 132
        }
      },
      "cell_type": "code",
      "source": [
        "interp_vecs = 12  # Number of interpolations to consider\n",
        "\n",
        "rnd1 = randint(0, X.shape[0])\n",
        "rnd2 = randint(0, X.shape[0])\n",
        "\n",
        "imgs = X[[rnd1, rnd2],:]  # Select 2 random samples (start and end)\n",
        "\n",
        "  # Feed the encoder with the start-end pair\n",
        "lv = enc.predict(imgs.reshape((imgs.shape[0], 28, 28, 1)))\n",
        "\n",
        "fig, ax = plt.subplots(1, interp_vecs, figsize=(17,17))\n",
        "\n",
        "coeffs = np.linspace(0,1,interp_vecs)\n",
        "\n",
        "for i, coef in enumerate(coeffs):\n",
        "  \n",
        "  # The latent vector is a linear combination between start and end numbers\n",
        "  vec = lv[0]*(1-coef) + lv[1]*coef\n",
        "  # Feed the latent vector to the decoder to generate a mixtured reconstruction\n",
        "  reconstr = dec.predict(vec.reshape(1,1,64))\n",
        "    \n",
        "  ax[i].imshow(reconstr.reshape(28, 28))\n",
        "  ax[i].axis('off')\n",
        "  ax[i].set_title('...', fontsize=15)\n",
        "\n",
        "ax[0].set_title(str(Y[rnd1]), fontsize=15)\n",
        "ax[interp_vecs-1].set_title(str(Y[rnd2]), fontsize=15)\n",
        "\n",
        "plt.show()"
      ],
      "execution_count": 0,
      "outputs": [
        {
          "output_type": "display_data",
          "data": {
            "image/png": "[encoded data removed]",
            "text/plain": [
              "<Figure size 1224x1224 with 12 Axes>"
            ]
          },
          "metadata": {
            "tags": []
          }
        }
      ]
    },
    {
      "metadata": {
        "id": "YeJH4oaqpVGN",
        "colab_type": "text"
      },
      "cell_type": "markdown",
      "source": [
        "Feeding the encoder with the same start-end pair gives us the possibility to combine their latent vectors linearly. Then, feeding each of the calculated combinations to the decoder, we obtain interesting number reconstructions. Plotting the reconstructions in an orderly fashion we can observe a slow transformation from one to the other, as shown in the figure above."
      ]
    }
  ]
}

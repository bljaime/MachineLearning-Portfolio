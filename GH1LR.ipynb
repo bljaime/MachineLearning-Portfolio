{
  "nbformat": 4,
  "nbformat_minor": 0,
  "metadata": {
    "colab": {
      "name": "GH1LR",
      "version": "0.3.2",
      "provenance": [],
      "collapsed_sections": [],
      "toc_visible": true
    },
    "kernelspec": {
      "name": "python3",
      "display_name": "Python 3"
    },
    "accelerator": "GPU"
  },
  "cells": [
    {
      "metadata": {
        "id": "p5PAhkSzbkRi",
        "colab_type": "text"
      },
      "cell_type": "markdown",
      "source": [
        "# Linear Regression - Boston Housing Dataset"
      ]
    },
    {
      "metadata": {
        "id": "JqoR6No_c0SM",
        "colab_type": "text"
      },
      "cell_type": "markdown",
      "source": [
        "*Boston Housing Dataset* contains 506 instances, having each one a total of 14 attributes, representing diverse information relative to houses located in various neighborhoods in Boston, Massachusetts. These attributes are the number of rooms in the house, the distance to the main Boston work areas, the percentage of lower status population or the time it has been occupied, among others. The target attribute, i.e. what it is going to be predicted, is the median value of homes in $1000s."
      ]
    },
    {
      "metadata": {
        "id": "Z82-gTcfGN4E",
        "colab_type": "text"
      },
      "cell_type": "markdown",
      "source": [
        "The Scikit-Learn library (sklearn), which brings many Machine Learning features, includes some well-known datasets, one of which is Boston Housing Dataset. So, the first thing we're going to do is import the libraries and the respective modules that are going to be used."
      ]
    },
    {
      "metadata": {
        "id": "g7pqJJrJd8v8",
        "colab_type": "code",
        "colab": {}
      },
      "cell_type": "code",
      "source": [
        "from sklearn.datasets import load_boston\n",
        "\n",
        "import numpy as np\n",
        "import scipy as sc\n",
        "import matplotlib.pyplot as plt\n",
        "import seaborn as sns "
      ],
      "execution_count": 0,
      "outputs": []
    },
    {
      "metadata": {
        "id": "D-NIG4AfG3ny",
        "colab_type": "text"
      },
      "cell_type": "markdown",
      "source": [
        "The data loaded from sklearn contains a description of the dataset, stored in the DESCR attribute. We use the variables X and Y to store the data and the target, respectively, and we save the dimensions of the dataset in the variables n (number of samples) and p (attributes per sample)."
      ]
    },
    {
      "metadata": {
        "id": "cBF-24BkiruX",
        "colab_type": "code",
        "outputId": "5b07d40b-360c-4648-83e8-edaa8a2dd208",
        "colab": {
          "base_uri": "https://localhost:8080/",
          "height": 894
        }
      },
      "cell_type": "code",
      "source": [
        "boston_dataset = load_boston()\n",
        "\n",
        "print(boston_dataset.DESCR)\n",
        "\n",
        "X = boston_dataset.data\n",
        "Y = boston_dataset.target\n",
        "\n",
        "n, p = X.shape"
      ],
      "execution_count": 3,
      "outputs": [
        {
          "output_type": "stream",
          "text": [
            ".. _boston_dataset:\n",
            "\n",
            "Boston house prices dataset\n",
            "---------------------------\n",
            "\n",
            "**Data Set Characteristics:**  \n",
            "\n",
            "    :Number of Instances: 506 \n",
            "\n",
            "    :Number of Attributes: 13 numeric/categorical predictive. Median Value (attribute 14) is usually the target.\n",
            "\n",
            "    :Attribute Information (in order):\n",
            "        - CRIM     per capita crime rate by town\n",
            "        - ZN       proportion of residential land zoned for lots over 25,000 sq.ft.\n",
            "        - INDUS    proportion of non-retail business acres per town\n",
            "        - CHAS     Charles River dummy variable (= 1 if tract bounds river; 0 otherwise)\n",
            "        - NOX      nitric oxides concentration (parts per 10 million)\n",
            "        - RM       average number of rooms per dwelling\n",
            "        - AGE      proportion of owner-occupied units built prior to 1940\n",
            "        - DIS      weighted distances to five Boston employment centres\n",
            "        - RAD      index of accessibility to radial highways\n",
            "        - TAX      full-value property-tax rate per $10,000\n",
            "        - PTRATIO  pupil-teacher ratio by town\n",
            "        - B        1000(Bk - 0.63)^2 where Bk is the proportion of blacks by town\n",
            "        - LSTAT    % lower status of the population\n",
            "        - MEDV     Median value of owner-occupied homes in $1000's\n",
            "\n",
            "    :Missing Attribute Values: None\n",
            "\n",
            "    :Creator: Harrison, D. and Rubinfeld, D.L.\n",
            "\n",
            "This is a copy of UCI ML housing dataset.\n",
            "https://archive.ics.uci.edu/ml/machine-learning-databases/housing/\n",
            "\n",
            "\n",
            "This dataset was taken from the StatLib library which is maintained at Carnegie Mellon University.\n",
            "\n",
            "The Boston house-price data of Harrison, D. and Rubinfeld, D.L. 'Hedonic\n",
            "prices and the demand for clean air', J. Environ. Economics & Management,\n",
            "vol.5, 81-102, 1978.   Used in Belsley, Kuh & Welsch, 'Regression diagnostics\n",
            "...', Wiley, 1980.   N.B. Various transformations are used in the table on\n",
            "pages 244-261 of the latter.\n",
            "\n",
            "The Boston house-price data has been used in many machine learning papers that address regression\n",
            "problems.   \n",
            "     \n",
            ".. topic:: References\n",
            "\n",
            "   - Belsley, Kuh & Welsch, 'Regression diagnostics: Identifying Influential Data and Sources of Collinearity', Wiley, 1980. 244-261.\n",
            "   - Quinlan,R. (1993). Combining Instance-Based and Model-Based Learning. In Proceedings on the Tenth International Conference of Machine Learning, 236-243, University of Massachusetts, Amherst. Morgan Kaufmann.\n",
            "\n"
          ],
          "name": "stdout"
        }
      ]
    },
    {
      "metadata": {
        "id": "xuwkPQ3yV92t",
        "colab_type": "text"
      },
      "cell_type": "markdown",
      "source": [
        "## 1. Exploratory Data Analysis\n",
        "\n",
        "The exploratory analysis must be performed before training the model, since it is a good practice to understand the relationship of the target variable with the rest of the attributes. In this step, we make use of the set of statistical and mathematical tools to obtain a better image of what our data represent.\n",
        "\n",
        "There are many possibilities to initially explore the data, but for the sake of simplicity, we will study, for example, the relationship between the variables RM (Average number of rooms per dwelling) and the target, MEDV.  We graph a scatter plot with each variable in an axis that allows us to visualize some identifiable pattern:"
      ]
    },
    {
      "metadata": {
        "id": "C7Rn1Kw8WiN9",
        "colab_type": "code",
        "colab": {
          "base_uri": "https://localhost:8080/",
          "height": 376
        },
        "outputId": "1409cbd1-6269-4d85-8990-da7eddd20400"
      },
      "cell_type": "code",
      "source": [
        "plt.title(\"Relationship between RM y MEDV\")\n",
        "plt.xlabel(\"RM\")\n",
        "plt.ylabel(\"MEDV\")\n",
        "\n",
        "plt.scatter(X[:,5], Y, alpha=0.5)  # We select all data from x axis and the 5th. column to allude the attribute RM\n",
        "plt.show()"
      ],
      "execution_count": 4,
      "outputs": [
        {
          "output_type": "display_data",
          "data": {
            "image/png": "[encoded data removed]",
            "text/plain": [
              "<Figure size 576x396 with 1 Axes>"
            ]
          },
          "metadata": {
            "tags": []
          }
        }
      ]
    },
    {
      "metadata": {
        "id": "3PXNm8D9WhaK",
        "colab_type": "text"
      },
      "cell_type": "markdown",
      "source": [
        "We can also use a statistical measure such as the correlation between the two variables to quantitatively check this relationship. The *corrcoef* function in numpy returns pearson product-moment correlation coefficients between the attributes. This correlation matrix can be plotted using the heatmap function from the seaborn library.\n",
        "\n",
        "The brief analysis seems to be coherent and and confirms what indicates the scatter plot: there is a correlation between RM and MEDV (+0.695 between -1 and 1), which is completely logical, since it is normal that the price of a house increases as more rooms it has."
      ]
    },
    {
      "metadata": {
        "id": "lWDjI2P_XPOE",
        "colab_type": "code",
        "colab": {
          "base_uri": "https://localhost:8080/",
          "height": 347
        },
        "outputId": "7307c9f4-a5f2-4840-d605-071bcc7b1a98"
      },
      "cell_type": "code",
      "source": [
        "corrmat=np.corrcoef(X[:,5], Y)\n",
        "\n",
        "sns.heatmap(corrmat, annot=True, fmt=\".3f\")\n",
        "plt.show()"
      ],
      "execution_count": 21,
      "outputs": [
        {
          "output_type": "display_data",
          "data": {
            "image/png": "[encoded data removed]",
            "text/plain": [
              "<Figure size 576x396 with 2 Axes>"
            ]
          },
          "metadata": {
            "tags": []
          }
        }
      ]
    },
    {
      "metadata": {
        "id": "GD7mIWspeQpN",
        "colab_type": "text"
      },
      "cell_type": "markdown",
      "source": [
        "It can be answered, for example, which is the medium price of the houses whose average number of rooms oscillates between 5 and 6:"
      ]
    },
    {
      "metadata": {
        "id": "1OD8TWSxeuzt",
        "colab_type": "code",
        "colab": {
          "base_uri": "https://localhost:8080/",
          "height": 34
        },
        "outputId": "2339fdb9-a49d-4266-be18-5d1b179ad5de"
      },
      "cell_type": "code",
      "source": [
        "medp = np.mean(Y[np.logical_and(X[:,5] > 5, X[:,5] < 6)])\n",
        "print(\"Mean value for 5 > RM > 6 :\", medp*1000, \" $\")"
      ],
      "execution_count": 23,
      "outputs": [
        {
          "output_type": "stream",
          "text": [
            "Mean value for 5 > RM > 6 : 17551.5923566879  $\n"
          ],
          "name": "stdout"
        }
      ]
    },
    {
      "metadata": {
        "id": "1wNOjUsnfU5k",
        "colab_type": "text"
      },
      "cell_type": "markdown",
      "source": [
        "Finally, were are going to plot the distribution of the target variable MEDV.  In this histogram we detect an anomalous value peak in dwellings with an average value of exactly $50,000. This is possibly the result of the truncation of those home values higher than this amount."
      ]
    },
    {
      "metadata": {
        "id": "RHeYNLDyfneN",
        "colab_type": "code",
        "colab": {
          "base_uri": "https://localhost:8080/",
          "height": 347
        },
        "outputId": "9d9f94d2-7b3e-49aa-b6a0-6040831573b5"
      },
      "cell_type": "code",
      "source": [
        "plt.hist(Y, bins=150)\n",
        "plt.show()"
      ],
      "execution_count": 28,
      "outputs": [
        {
          "output_type": "display_data",
          "data": {
            "image/png": "[encoded data removed]",
            "text/plain": [
              "<Figure size 576x396 with 1 Axes>"
            ]
          },
          "metadata": {
            "tags": []
          }
        }
      ]
    },
    {
      "metadata": {
        "id": "77hvTCml_as6",
        "colab_type": "text"
      },
      "cell_type": "markdown",
      "source": [
        "## 2. Ordinary Least Squares\n",
        "\n",
        "Una vez hemos efectuado el análisis exploratorio inicial, vamos a proceder a implementar y entrenar a nuestro modelo. Recuerda que podemos conseguir ajustar a los datos nuestra recta de regresión lineal haciendo uso de aquellos valores de los parámetros obtenidos mediante el método de ***Mínimos Cuadrados Ordinarios***. Este método encuentra que el mínimo de la función del ***Error Cuadrático Medio*** se encuentra en el punto donde su derivada es igual a 0. Esto se obtiene evaluando la siguiente expresión:\n",
        "\n",
        "> > > > >  > > > $W = (X^TX)^{-1}X^TY$\n",
        "\n",
        "Recuerda que para trabajar de forma vectorizada, ampliamos la matriz $X$ con una primera columna de valores asignados a $1$, que servirán para mantener al termino independiente pues... pues eso: independiente.\n",
        "\n",
        "---\n",
        "\n",
        "**Tu tarea:** \n",
        "\n",
        "1.   Ajusta el modelo de Regresión Lineal mediante el método de ***Mínimos Cuadrados Ordinarios***.\n",
        "2.   Una vez hayas calculado los parámetros, visualiza la recta obtenida para comprobar que realmente se ajusta a la nube de puntos.\n",
        "3.   Explica cómo interpretas intuitivamente los valores de cada uno de los parámetros. ¿Qué representa $w_0$?¿Y $w_1$?\n",
        "4.   Utiliza el modelo entrenado para predecir cuál será el valor medio de la vivienda para un número medio de ***9 habitaciones***, y también el número de habitaciones medio que podría tener una vivienda cuyo valor medio es de **45.000\\$**.\n",
        "5.   Utiliza el modelo entrenado para calcular, para cada valor de $X$, cual es el valor predicho por la regresión. Llamaremos al vector generado el vector de salida predicho $Y_P$. Ahora, vamos a evaluar la calidad de las predicciones implementando una función a la que le pases como parámetros el vector de valores de salida reáles $Y$ y el vector de salida predicho $Y_P$, y computa el ***Error Cuadrático Medio***. Recuerda que  el ***ECM*** se calcula como:\n",
        "\n",
        "> > > > >  > > >  $ \\operatorname{ECM}=\\frac{1}{n}\\sum_{i=1}^n(Y_{Pi} - Y_i)^2. $\n",
        "\n",
        "**Hint:** Puedes utilizar la @ como un operador equivalente a la función **np.matmul()**, utilizada para la multiplicación matricial. ej : A = B @ C\n",
        "\n",
        "**Consejo:** Al trabajar con multiplicación de matrices y vectores, comprueba que los vectores tengan bien definidas sus dos dimensiones. Esto se puede ver usando con el atributo *X.shape* de dicho vector. Queremos que sus dimensiones se muestren así **(5, 1)** y no así **(5,)**.\n",
        "Esto se puede producir por ejemplo cuando seleccionamos una única columna de una matriz. En estos casos se puede evitar seleccionando dicha columna así **X[:, 3:4]** en vez de así **X[:, 3]**. Igualmente, en caso de haber perdido una de las dimensiones, las funciones **np.newaxis()** o **reshape()** te pueden ser de ayuda.\n",
        "\n",
        "```\n",
        "ej: Y = Y[:, np.newaxis]\n",
        "```\n",
        "**Info:** En el punto 5 hemos calculado el error del modelo utilizando todos los datos. Más adelante en el curso veremos que esto no es del todo correcto a la hora de evaluar un modelo, pero de momento nos es suficiente.\n"
      ]
    },
    {
      "metadata": {
        "id": "uBXHrSYnEW8M",
        "colab_type": "code",
        "colab": {}
      },
      "cell_type": "code",
      "source": [
        "# COMIENZA TU CÓDIGO AQUÍ \n",
        "\n",
        "RM = X[:,5:6]\n",
        "\n",
        "ident = np.ones((len(RM), 1), dtype=float)\n",
        "print(ident.shape)\n",
        "#print(RM.shape)\n",
        "#idRM = np.column_stack((ident, RM))\n",
        "idRM = np.hstack([ident,RM])\n",
        "#print(idRM.shape)\n",
        "#print(idRM)\n",
        "#print(Y.shape)\n",
        "W = np.linalg.inv(idRM.T @ idRM) @ idRM.T @ Y # Para poder multiplicar dos matrices A de orden mxp y B de orden pxq ha de ocurrir: que el número de columnas de A sea igual al número de filas de B\n",
        "print(W)\n",
        "W = W[:, np.newaxis] #Para que shape no sea (2, ), sino (2, 1). También es otra opción: np.reshape(RM, (506,1))\n",
        "print(W.shape) \n",
        "\n",
        "def funcionRegresion(x): #WO = -34.67062078, es la ordenada en el origen. W1 = 9.10210898, es la pendiente\n",
        "  return 9.10210898*x -34.67062078 #Cuando incrementas en 1 el nº de hab. se incrementa el valor en 9k$. Y una casa con 0 hab. vale -34k$(no sentido)\n",
        "\n",
        "plt.scatter(RM, Y, alpha=0.3)\n",
        "plt.show\n",
        "\n",
        "plt.plot(RM, funcionRegresion(RM), c=\"red\")"
      ],
      "execution_count": 0,
      "outputs": []
    },
    {
      "metadata": {
        "id": "xsWDgRC_67nu",
        "colab_type": "code",
        "colab": {}
      },
      "cell_type": "code",
      "source": [
        "#4\n",
        "\n",
        "# Utiliza el modelo entrenado para predecir cuál será el valor medio de la vivienda para un número medio de 9 habitaciones\n",
        "print(\"Precio estimado de una vivienda de 9 habitaciones:\", funcionRegresion(9)*1000, \"$\")\n",
        "\n",
        "# Halla número de habitaciones medio que podría tener una vivienda cuyo valor medio es de 45.000$\n",
        "\n",
        "def getPromedioHabitaciones(valor):\n",
        "  return (valor+34.67062078)/9.10210898\n",
        "\n",
        "print(\"Promedio de habitaciones para una vivienda de 45000 $:\", getPromedioHabitaciones(45))"
      ],
      "execution_count": 0,
      "outputs": []
    },
    {
      "metadata": {
        "id": "HRPxRVrR9m-d",
        "colab_type": "code",
        "colab": {}
      },
      "cell_type": "code",
      "source": [
        "Yp = funcionRegresion(RM)\n",
        "\n",
        "def ECM (predichos, reales):\n",
        "  ECM = 0.0\n",
        "  for i in range(len(predichos)):\n",
        "    #print(\"Predicho: \", predichos[i], \", Real: \", reales[i])\n",
        "    ECM+=(predichos[i]-reales[i])**2\n",
        "  return ECM/n\n",
        "    #suma = (predichos-reales)\n",
        "    #print(i)\n",
        "  \n",
        "print(\"El Error Cuadratico Medio es: \", float(ECM(Yp, Y)))"
      ],
      "execution_count": 0,
      "outputs": []
    },
    {
      "metadata": {
        "id": "97yJHn9aDN3g",
        "colab_type": "text"
      },
      "cell_type": "markdown",
      "source": [
        "## 3. Regresión Lineal Simple - Librería Sklearn.\n",
        "\n",
        "*[Realizar primero el ejercicio número #2]*\n",
        "\n",
        "Hasta este punto hemos aprendido a nivel teórico y práctico cómo funciona el modelo de ***Regresión Lineal Simple*** y cómo se implementa internamente. Esto está muy bien para tener un mejor conocimiento de la materia. Sin embargo, en el día a día tenemos que ser efectivos, y para eso lo habitual será utilizar librerías que ya implementen los modelos que vamos conociendo. Por ejemplo, la librería ***Sklearn*** ya implementa muchos de los modelos de Machine Learning que vamos a aprender durante el curso, como por ejemplo, el modelo de Regresión Lineal. \n",
        "\n",
        "---\n",
        "** Tu tarea: ** Haz uso de la función ***sklearn.linear_model.LinearRegression()*** para entrenar un modelo de Regresión Lineal Simple con las mismas variables que hemos utilizado en el ejercicio anterior. Utiliza la documentación (online o usando el comando \"?\") para estudiar los diferentes parámetros que acepta este modelo. \n",
        "\n",
        "Por ejemplo ¿Para qué sirve el parámetro*** fit_intercept***? Puedes entrenar el modelo con y sin dicho parámetro y visualizarlo en una gráfica.\n",
        "\n",
        "Una vez hayas ajustado el modelo, comprueba que el valor de los parámetros obtenidos (también llamados coeficientes) sea el mismo que has obtenido anteriormente. De la misma forma, utiliza la función ***.predict()***, que ya viene implementada, para comprobar que tus predicciones eran correctas. \n",
        "\n",
        "Finalmente, comprueba que el valor del Error Cuadrático Medio que has obtenido previamente en el ejercicio anterior es igual al que te proporciona la función ya implementada ***sklearn.metrics.mean_squared_error()***. \n",
        "\n",
        "Como puedes ver... ¡Estas librerías ya te vienen con todo el trabajo hecho!\n"
      ]
    },
    {
      "metadata": {
        "id": "xwwMXdGzG_kf",
        "colab_type": "code",
        "colab": {}
      },
      "cell_type": "code",
      "source": [
        "from sklearn import linear_model\n",
        "from sklearn.metrics import mean_squared_error\n",
        "\n",
        "# COMIENZA TU CÓDIGO AQUÍ #\n",
        "\n",
        "RM = X[:,5:6]\n",
        "\n",
        "lmT = linear_model.LinearRegression(fit_intercept=True)\n",
        "lmF = linear_model.LinearRegression(fit_intercept=False) #No me ajustes el intercept. Intenta ajustarte a los datos, pero pasa por el (0,0)\n",
        "lmT.fit(RM, Y)\n",
        "lmF.fit(RM, Y)\n",
        "\n",
        "plt.scatter(RM, Y,color='k', alpha = 0.5)\n",
        "plt.plot(RM, lmT.predict(RM),color='g') #El valor de los parámetros obtenidos (también llamados coeficientes) es el mismo que el obtenido anteriormente\n",
        "plt.plot(RM, lmF.predict(RM),color='r')\n",
        "plt.xlim(0)\n",
        "plt.show()\n",
        "\n",
        "print(\"La predicción del precio para una casa de 9 hab. es: \", float(lmT.predict(9))*1000, \"$\")\n",
        "\n",
        "Ypred = lmT.predict(RM)\n",
        "Ypred = Ypred[:, np.newaxis]\n",
        "\n",
        "print(RM.shape, Ypred.shape)\n",
        "print(\"El ECM es: \", mean_squared_error(Y, Ypred))\n",
        "\n",
        "plt.xlabel(\"Precios reales\")\n",
        "plt.ylabel(\"Precios predichos\")\n",
        "plt.title(\"Precios reales vs Precios predichos\")\n",
        "plt.scatter(Y, Ypred)\n"
      ],
      "execution_count": 0,
      "outputs": []
    },
    {
      "metadata": {
        "id": "5OU7JKm0QLyW",
        "colab_type": "text"
      },
      "cell_type": "markdown",
      "source": [
        "## 4. Regresión Lineal Múltiple.\n",
        "\n",
        "Por último, como ya hemos visto, podemos generalizar el modelo de Regresión Lineal Simple añadiendo más variables y obteniendo así el model de Regresión Lineal Múltiple. Al añadir más variables al modelo, le estamos dotando de más información que ayude a mejorar las predicciones. Por ejemplo, un modelo de Regresión Lineal Simple podría intentar predecir la altura de una persona en base al tamaño de la mano. Pero si añadieramos otra variable, como por ejemplo, el género, podríamos tener más información para hacer predicciones más fidedignas.\n",
        "\n",
        "La buena noticia es que a nivel de código, no hay gran diferencia entre ambos modelos, que también pueden ser resueltos mediante el método de ***Mínimos Cuadrados Ordinarios*** evaluando la expresión que ya conocemos:\n",
        "\n",
        "> > > > >  > > > $W = (X^TX)^{-1}X^TY$\n",
        "\n",
        "---\n",
        "** Tu tarea: ** \n",
        "\n",
        "1. Realiza un modelo de Regresión Lineal Múltiple dónde se utilizen las variables ** RM** (Número medio de habitaciones), **LSTAT ** (Porcentaje de población en el barrio clasificada como clase baja) y **PTRATIO** (Ratio de alumno-profesor del barrio).\n",
        "\n",
        "2. Observa el valor de los coeficientes e interprétalos.\n",
        "\n",
        "3. Utiliza el modelo de Regresión Lineal implementado por la librería **Sklearn** para entrenar este mismo modelo y comprobar que los coeficientes que has obtenidos son correctos.\n",
        "\n",
        "4. Evalua el modelo utilizando la función  ***sklearn.metrics.mean_squared_error()***.  y compara el valor del error obtenido en el ejercicio 2 con el Modelo de Regresión Lineal Simple. ¿El error es mayor o menor? ¿Por qué ocurre esto?\n",
        "\n",
        "\n",
        "**Hint**  Puedes reutilizar mucho del código de los ejercicios anteriores."
      ]
    },
    {
      "metadata": {
        "id": "aLCT_xrxTF87",
        "colab_type": "code",
        "colab": {}
      },
      "cell_type": "code",
      "source": [
        "from sklearn import linear_model\n",
        "from sklearn.metrics import mean_squared_error\n",
        "\n",
        "# APARTADO 1\n",
        "\n",
        "RM = X[:,5]\n",
        "LSTAT = X[:,12]\n",
        "PTRATIO = X[:, 10]\n",
        "\n",
        "RM = RM[:, np.newaxis]\n",
        "LSTAT = LSTAT[:, np.newaxis]\n",
        "PTRATIO = PTRATIO[:, np.newaxis]\n",
        "\n",
        "ident = np.ones((len(RM), 1), dtype=float)\n",
        "RyLyP = np.hstack([RM, LSTAT, PTRATIO])\n",
        "\n",
        "idRyLyP = np.hstack([ident,RyLyP])\n",
        "W = np.linalg.inv(idRyLyP.T @ idRyLyP) @ idRyLyP.T @ Y # Para poder multiplicar dos matrices A de orden mxp y B de orden pxq ha de ocurrir: que el número de columnas de A sea igual al número de filas de B\n",
        "\n",
        "print(W)\n",
        "W = W[:, np.newaxis] #Para que shape no sea (2, ), sino (2, 1). También es otra opción: np.reshape(RM, (506,1))\n",
        "\n",
        "def funcionRegresion(RM, LSTAT, PTRATIO):\n",
        "  return -0.93072256*PTRATIO -0.57180569*LSTAT + 4.51542094*RM + 18.56711151\n",
        "\n",
        "#plt.scatter(RM, Y, alpha=0.3) Imposible representar tantas dimensiones!!\n",
        "#plt.show\n",
        "#plt.plot(RM, LSTAT, PTRATIO, funcionRegresion(RM, LSTAT, PTRATIO), c=\"red\")\n",
        "\n",
        "#APARTADO 2: Incremento de 1 habitación: encarece el precio x4.5, a -1 en status social: abarata la vivienda en -0.57.., y -1 en alumno-profe abarata en -0.97\n",
        "\n",
        "#APARTADO 3: \n",
        "\n",
        "#print(RyLyP.shape)\n",
        "\n",
        "lm = linear_model.LinearRegression()\n",
        "lm.fit(RyLyP, Y)\n",
        "\n",
        "print(\"Coeficientes: \", lm.coef_, \"\\nTermino indep: \", lm.intercept_)\n",
        "\n",
        "#plt.scatter(RyLyP, Y,color='k', alpha = 0.5) Imposible representar tantas dimensiones!!\n",
        "#plt.plot(RyLyP, lm.predict(RyLyP),color='g') #El valor de los parámetros obtenidos (también llamados coeficientes) es el mismo que el obtenido anteriormente\n",
        "#plt.show()\n",
        "\n",
        "arr = np.array([[5.99, 15.0, 18.0]])\n",
        "arr.reshape(1, 3)\n",
        "\n",
        "print(\"La predicción del precio para una casa de 9 hab. es: \", float(lm.predict(arr))*1000, \"$\")\n",
        "\n",
        "Ypred = lm.predict(RyLyP)\n",
        "Ypred = Ypred[:, np.newaxis] #Muy importante para evitar rarezas en el shape\n",
        "\n",
        "#print(idRyLyP)\n",
        "#print(RM.shape, Ypred.shape)\n",
        "\n",
        "print(\"El ECM es: \", mean_squared_error(Y, Ypred))\n"
      ],
      "execution_count": 0,
      "outputs": []
    }
  ]
}